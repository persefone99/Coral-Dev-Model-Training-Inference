{
 "cells": [
  {
   "cell_type": "code",
   "execution_count": null,
   "id": "4bcdb8f4-6d2d-4068-94e5-c160ed3592bf",
   "metadata": {},
   "outputs": [],
   "source": [
    "import tensorflow as tf\n",
    "import keras\n",
    "import mtcnn\n",
    "\n",
    "print(\"Versión de TensorFlow:\", tf.__version__)\n",
    "print(\"Versión de Keras:\", keras.__version__)\n",
    "print(\"Versión de MTCNN:\", mtcnn.__version__)\n"
   ]
  },
  {
   "cell_type": "code",
   "execution_count": null,
   "id": "2f9e3c12-2157-4218-ba89-708af344ea07",
   "metadata": {},
   "outputs": [],
   "source": [
    "import splitfolders\n",
    "\n",
    "# Ruta del directorio original\n",
    "input_folder = 'train_faces'\n",
    "\n",
    "# Dividir en train (80%) y validation (20%)\n",
    "splitfolders.ratio(input_folder, output=\"output\", seed=1337, ratio=(.8, .2))\n",
    "\n",
    "# El resultado estará en el directorio `output` con subdirectorios `train` y `validation`"
   ]
  },
  {
   "cell_type": "code",
   "execution_count": null,
   "id": "95ab8b3a-d1ce-474e-bbb0-94971c753e97",
   "metadata": {},
   "outputs": [],
   "source": [
    "import os\n",
    "import cv2\n",
    "from mtcnn.mtcnn import MTCNN\n",
    "\n",
    "# Configuración de directorios\n",
    "input_dir = 'validation/'\n",
    "output_dir = 'validation_faces/'\n",
    "os.makedirs(output_dir, exist_ok=True)\n",
    "\n",
    "# Inicializar el detector de rostros\n",
    "detector = MTCNN()\n",
    "\n",
    "# Función para detectar y guardar caras\n",
    "def detect_and_save_faces(input_dir, output_dir):\n",
    "    for class_name in os.listdir(input_dir):\n",
    "        class_dir = os.path.join(input_dir, class_name)\n",
    "        if not os.path.isdir(class_dir):\n",
    "            continue\n",
    "        \n",
    "        output_class_dir = os.path.join(output_dir, class_name)\n",
    "        os.makedirs(output_class_dir, exist_ok=True)\n",
    "        \n",
    "        for image_name in os.listdir(class_dir):\n",
    "            image_path = os.path.join(class_dir, image_name)\n",
    "            image = cv2.imread(image_path)\n",
    "            \n",
    "            if image is None:\n",
    "                continue\n",
    "            \n",
    "            faces = detector.detect_faces(image)\n",
    "            \n",
    "            for i, face in enumerate(faces):\n",
    "                x, y, width, height = face['box']\n",
    "                x1, y1, x2, y2 = x, y, x + width, y + height\n",
    "                face_image = image[y1:y2, x1:x2]\n",
    "                \n",
    "                # Guardar la cara detectada\n",
    "                face_image_path = os.path.join(output_class_dir, f\"{os.path.splitext(image_name)[0]}_face{i}.jpg\")\n",
    "                cv2.imwrite(face_image_path, face_image)\n",
    "\n",
    "# Detectar y guardar caras\n",
    "detect_and_save_faces(input_dir, output_dir)\n"
   ]
  }
 ],
 "metadata": {
  "kernelspec": {
   "display_name": "Python 3",
   "language": "python",
   "name": "python3"
  },
  "language_info": {
   "codemirror_mode": {
    "name": "ipython",
    "version": 3
   },
   "file_extension": ".py",
   "mimetype": "text/x-python",
   "name": "python",
   "nbconvert_exporter": "python",
   "pygments_lexer": "ipython3",
   "version": "3.8.18"
  }
 },
 "nbformat": 4,
 "nbformat_minor": 5
}
